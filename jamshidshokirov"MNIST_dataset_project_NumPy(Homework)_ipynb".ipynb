{
  "nbformat": 4,
  "nbformat_minor": 0,
  "metadata": {
    "colab": {
      "provenance": [],
      "include_colab_link": true
    },
    "kernelspec": {
      "name": "python3",
      "display_name": "Python 3"
    },
    "language_info": {
      "name": "python"
    }
  },
  "cells": [
    {
      "cell_type": "markdown",
      "metadata": {
        "id": "view-in-github",
        "colab_type": "text"
      },
      "source": [
        "<a href=\"https://colab.research.google.com/github/shokirovjamshid/MNIST_dataset_project./blob/main/jamshidshokirov%22MNIST_dataset_project_NumPy(Homework)_ipynb%22.ipynb\" target=\"_parent\"><img src=\"https://colab.research.google.com/assets/colab-badge.svg\" alt=\"Open In Colab\"/></a>"
      ]
    },
    {
      "cell_type": "markdown",
      "metadata": {
        "id": "rW9o0WS8Whxk"
      },
      "source": [
        "### Project"
      ]
    },
    {
      "cell_type": "code",
      "source": [
        "plt.rcParams['xtick.bottom'] = plt.rcParams['xtick.labelbottom'] = False\n",
        "plt.rcParams['xtick.top'] = plt.rcParams['xtick.labeltop'] = False\n",
        "plt.rcParams['ytick.right'] = plt.rcParams['ytick.labelright'] = False\n",
        "plt.rcParams['ytick.left'] = plt.rcParams['ytick.labelleft'] = False"
      ],
      "metadata": {
        "id": "PaSo1sgF-DZv"
      },
      "execution_count": 29,
      "outputs": []
    },
    {
      "cell_type": "code",
      "metadata": {
        "colab": {
          "base_uri": "https://localhost:8080/"
        },
        "id": "MM0G_CBpU7p6",
        "outputId": "0bbeea97-fcb4-4ebd-8cbc-8b8125269666"
      },
      "source": [
        "!wget https://pjreddie.com/media/files/mnist_test.csv"
      ],
      "execution_count": 30,
      "outputs": [
        {
          "output_type": "stream",
          "name": "stdout",
          "text": [
            "--2023-09-17 11:42:45--  https://pjreddie.com/media/files/mnist_test.csv\n",
            "Resolving pjreddie.com (pjreddie.com)... 128.208.4.108\n",
            "Connecting to pjreddie.com (pjreddie.com)|128.208.4.108|:443... connected.\n",
            "HTTP request sent, awaiting response... 200 OK\n",
            "Length: 18289443 (17M) [application/octet-stream]\n",
            "Saving to: ‘mnist_test.csv.1’\n",
            "\n",
            "mnist_test.csv.1    100%[===================>]  17.44M  35.4MB/s    in 0.5s    \n",
            "\n",
            "2023-09-17 11:42:46 (35.4 MB/s) - ‘mnist_test.csv.1’ saved [18289443/18289443]\n",
            "\n"
          ]
        }
      ]
    },
    {
      "cell_type": "markdown",
      "metadata": {
        "id": "5hqtIDJ6XIJ_"
      },
      "source": [
        "### `mnist_test.csv` fayilni yuklab oling.\n",
        "\n",
        "MNIST - **Modified National Institute of Standards and Technology** ma'lumotlar bazasining qisqartmasi. MNIST 0 dan 9 gacha bo'lgan qo'lda yozilgan raqamlarning **70 000** ta, **28 x 28** o'lchamdagi rasmlari to'plamini o'z ichiga oladi.\n",
        "\n",
        "Bu datasetda esa test uchun **10 000** ta rasm mavjud.\n",
        "\n",
        "Numpy **loadtxt()** funktsiyasi yordamida ma'lumotlarni tahrirlang."
      ]
    },
    {
      "cell_type": "code",
      "metadata": {
        "id": "4CyHUrUPXYXT"
      },
      "source": [
        "import matplotlib.pyplot as plt\n",
        "import csv"
      ],
      "execution_count": 31,
      "outputs": []
    },
    {
      "cell_type": "code",
      "metadata": {
        "id": "M6-eW8PWXjLX"
      },
      "source": [
        "filename = 'mnist_test.csv'"
      ],
      "execution_count": 32,
      "outputs": []
    },
    {
      "cell_type": "code",
      "metadata": {
        "id": "VCvkITICVBs9"
      },
      "source": [
        "def get_data(filename):\n",
        "  '''\n",
        "  Load and separete the data using the numpy loadtxt() function.\n",
        "\n",
        "  Parametrs:\n",
        "    str: filename\n",
        "  returns:\n",
        "    Tuple : label.shape=(10000,),data.shape=(10000, 28, 28)\n",
        "  '''\n",
        "  # WRITE YOUR CODE HERE\n",
        "  f = open(filename)\n",
        "  data = list(csv.reader(f))\n",
        "  label = []\n",
        "  dataset = []\n",
        "  for i in data:\n",
        "    label.append(i[0])\n",
        "    a = []\n",
        "    for n in range(28,785):\n",
        "      if n%28==0:\n",
        "        a.append(list(map(int,i[n-27:n+1])))\n",
        "    dataset.append(a)\n",
        "  return label,dataset"
      ],
      "execution_count": 33,
      "outputs": []
    },
    {
      "cell_type": "code",
      "metadata": {
        "id": "jFSLUPoDZTK5",
        "colab": {
          "base_uri": "https://localhost:8080/"
        },
        "outputId": "5b106234-92ba-48dd-d38c-2192eefa454b"
      },
      "source": [
        "label,data = get_data(filename)\n",
        "# data = map(int, data)\n",
        "# data1 = list(data)\n",
        "print(data[0])"
      ],
      "execution_count": 34,
      "outputs": [
        {
          "output_type": "stream",
          "name": "stdout",
          "text": [
            "[[0, 0, 0, 0, 0, 0, 0, 0, 0, 0, 0, 0, 0, 0, 0, 0, 0, 0, 0, 0, 0, 0, 0, 0, 0, 0, 0, 0], [0, 0, 0, 0, 0, 0, 0, 0, 0, 0, 0, 0, 0, 0, 0, 0, 0, 0, 0, 0, 0, 0, 0, 0, 0, 0, 0, 0], [0, 0, 0, 0, 0, 0, 0, 0, 0, 0, 0, 0, 0, 0, 0, 0, 0, 0, 0, 0, 0, 0, 0, 0, 0, 0, 0, 0], [0, 0, 0, 0, 0, 0, 0, 0, 0, 0, 0, 0, 0, 0, 0, 0, 0, 0, 0, 0, 0, 0, 0, 0, 0, 0, 0, 0], [0, 0, 0, 0, 0, 0, 0, 0, 0, 0, 0, 0, 0, 0, 0, 0, 0, 0, 0, 0, 0, 0, 0, 0, 0, 0, 0, 0], [0, 0, 0, 0, 0, 0, 0, 0, 0, 0, 0, 0, 0, 0, 0, 0, 0, 0, 0, 0, 0, 0, 0, 0, 0, 0, 0, 0], [0, 0, 0, 0, 0, 0, 0, 0, 0, 0, 0, 0, 0, 0, 0, 0, 0, 0, 0, 0, 0, 0, 0, 0, 0, 0, 0, 0], [0, 0, 0, 0, 0, 0, 84, 185, 159, 151, 60, 36, 0, 0, 0, 0, 0, 0, 0, 0, 0, 0, 0, 0, 0, 0, 0, 0], [0, 0, 0, 0, 0, 0, 222, 254, 254, 254, 254, 241, 198, 198, 198, 198, 198, 198, 198, 198, 170, 52, 0, 0, 0, 0, 0, 0], [0, 0, 0, 0, 0, 0, 67, 114, 72, 114, 163, 227, 254, 225, 254, 254, 254, 250, 229, 254, 254, 140, 0, 0, 0, 0, 0, 0], [0, 0, 0, 0, 0, 0, 0, 0, 0, 0, 0, 17, 66, 14, 67, 67, 67, 59, 21, 236, 254, 106, 0, 0, 0, 0, 0, 0], [0, 0, 0, 0, 0, 0, 0, 0, 0, 0, 0, 0, 0, 0, 0, 0, 0, 0, 83, 253, 209, 18, 0, 0, 0, 0, 0, 0], [0, 0, 0, 0, 0, 0, 0, 0, 0, 0, 0, 0, 0, 0, 0, 0, 0, 22, 233, 255, 83, 0, 0, 0, 0, 0, 0, 0], [0, 0, 0, 0, 0, 0, 0, 0, 0, 0, 0, 0, 0, 0, 0, 0, 0, 129, 254, 238, 44, 0, 0, 0, 0, 0, 0, 0], [0, 0, 0, 0, 0, 0, 0, 0, 0, 0, 0, 0, 0, 0, 0, 0, 59, 249, 254, 62, 0, 0, 0, 0, 0, 0, 0, 0], [0, 0, 0, 0, 0, 0, 0, 0, 0, 0, 0, 0, 0, 0, 0, 0, 133, 254, 187, 5, 0, 0, 0, 0, 0, 0, 0, 0], [0, 0, 0, 0, 0, 0, 0, 0, 0, 0, 0, 0, 0, 0, 0, 9, 205, 248, 58, 0, 0, 0, 0, 0, 0, 0, 0, 0], [0, 0, 0, 0, 0, 0, 0, 0, 0, 0, 0, 0, 0, 0, 0, 126, 254, 182, 0, 0, 0, 0, 0, 0, 0, 0, 0, 0], [0, 0, 0, 0, 0, 0, 0, 0, 0, 0, 0, 0, 0, 0, 75, 251, 240, 57, 0, 0, 0, 0, 0, 0, 0, 0, 0, 0], [0, 0, 0, 0, 0, 0, 0, 0, 0, 0, 0, 0, 0, 19, 221, 254, 166, 0, 0, 0, 0, 0, 0, 0, 0, 0, 0, 0], [0, 0, 0, 0, 0, 0, 0, 0, 0, 0, 0, 0, 3, 203, 254, 219, 35, 0, 0, 0, 0, 0, 0, 0, 0, 0, 0, 0], [0, 0, 0, 0, 0, 0, 0, 0, 0, 0, 0, 0, 38, 254, 254, 77, 0, 0, 0, 0, 0, 0, 0, 0, 0, 0, 0, 0], [0, 0, 0, 0, 0, 0, 0, 0, 0, 0, 0, 31, 224, 254, 115, 1, 0, 0, 0, 0, 0, 0, 0, 0, 0, 0, 0, 0], [0, 0, 0, 0, 0, 0, 0, 0, 0, 0, 0, 133, 254, 254, 52, 0, 0, 0, 0, 0, 0, 0, 0, 0, 0, 0, 0, 0], [0, 0, 0, 0, 0, 0, 0, 0, 0, 0, 61, 242, 254, 254, 52, 0, 0, 0, 0, 0, 0, 0, 0, 0, 0, 0, 0, 0], [0, 0, 0, 0, 0, 0, 0, 0, 0, 0, 121, 254, 254, 219, 40, 0, 0, 0, 0, 0, 0, 0, 0, 0, 0, 0, 0, 0], [0, 0, 0, 0, 0, 0, 0, 0, 0, 0, 121, 254, 207, 18, 0, 0, 0, 0, 0, 0, 0, 0, 0, 0, 0, 0, 0, 0], [0, 0, 0, 0, 0, 0, 0, 0, 0, 0, 0, 0, 0, 0, 0, 0, 0, 0, 0, 0, 0, 0, 0, 0, 0, 0, 0, 0]]\n"
          ]
        }
      ]
    },
    {
      "cell_type": "code",
      "metadata": {
        "id": "nuyYfeQ4ZW3m",
        "colab": {
          "base_uri": "https://localhost:8080/",
          "height": 405
        },
        "outputId": "c6717dc8-0f56-498a-859b-1ea956acc5fc"
      },
      "source": [
        "from numpy import dtype\n",
        "def data_imshow(label,data):\n",
        "  '''\n",
        "  Show the dataset in one figure with\n",
        "\n",
        "  Parameters:\n",
        "    numpy array: numbers and label from the dataset\n",
        "  '''\n",
        "  # WRITE YOUR CODE HERE\n",
        "  # data = map(int, data)\n",
        "  for i in range(1,16):\n",
        "    plt.subplot(3,5,i)\n",
        "    plt.imshow(data[i],cmap='gray')\n",
        "    plt.title(label[i])\n",
        "  plt.show()\n",
        "\n",
        "data_imshow(label,data)"
      ],
      "execution_count": 35,
      "outputs": [
        {
          "output_type": "display_data",
          "data": {
            "text/plain": [
              "<Figure size 640x480 with 15 Axes>"
            ],
            "image/png": "[encoded data removed]"
          },
          "metadata": {}
        }
      ]
    }
  ]
}